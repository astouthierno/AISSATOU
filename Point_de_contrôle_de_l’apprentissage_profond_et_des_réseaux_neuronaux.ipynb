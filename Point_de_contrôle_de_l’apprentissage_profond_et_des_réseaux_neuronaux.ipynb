{
  "nbformat": 4,
  "nbformat_minor": 0,
  "metadata": {
    "colab": {
      "provenance": [],
      "include_colab_link": true
    },
    "kernelspec": {
      "name": "python3",
      "display_name": "Python 3"
    },
    "language_info": {
      "name": "python"
    }
  },
  "cells": [
    {
      "cell_type": "markdown",
      "metadata": {
        "id": "view-in-github",
        "colab_type": "text"
      },
      "source": [
        "<a href=\"https://colab.research.google.com/github/astouthierno/AISSATOU/blob/main/Point_de_contr%C3%B4le_de_l%E2%80%99apprentissage_profond_et_des_r%C3%A9seaux_neuronaux.ipynb\" target=\"_parent\"><img src=\"https://colab.research.google.com/assets/colab-badge.svg\" alt=\"Open In Colab\"/></a>"
      ]
    },
    {
      "cell_type": "markdown",
      "source": [
        "Point de contrôle de l’apprentissage profond et des réseaux neuronaux\n",
        " les algorithmes de reconnaissance vocale et de chatbot pour créer un chatbot à commande vocale"
      ],
      "metadata": {
        "id": "kS-i8m6elevM"
      }
    },
    {
      "cell_type": "code",
      "execution_count": null,
      "metadata": {
        "collapsed": true,
        "id": "44ypOkfylQzL"
      },
      "outputs": [],
      "source": [
        "pip install nltk streamlit speechrecognition\n"
      ]
    },
    {
      "cell_type": "markdown",
      "source": [
        "importer les fichier"
      ],
      "metadata": {
        "id": "dPjMFbKRmLDP"
      }
    },
    {
      "cell_type": "code",
      "source": [
        "import nltk\n",
        "import streamlit as st\n",
        "import speech_recognition as sr\n",
        "from nltk.chat.util import Chat, reflections\n"
      ],
      "metadata": {
        "id": "0sZ0PqJ5mODA"
      },
      "execution_count": 24,
      "outputs": []
    },
    {
      "cell_type": "code",
      "source": [
        "def load_pairs_from_file(filename):\n",
        "    pairs = []\n",
        "    try:\n",
        "        with open(filename, 'r', encoding='utf-8') as file:\n",
        "            lines = file.readlines()\n",
        "            for i in range(0, len(lines), 2):  # Lire les questions/réponses par paires\n",
        "                question = lines[i].strip()\n",
        "                answer = lines[i + 1].strip() if i + 1 < len(lines) else \"\"\n",
        "                pairs.append([question, [answer]])\n",
        "        return pairs\n",
        "    except FileNotFoundError:\n",
        "        st.error(\"Fichier introuvable. Veuillez vérifier le chemin.\")\n",
        "        return []\n",
        "\n"
      ],
      "metadata": {
        "id": "3i-TrVJMmXkY"
      },
      "execution_count": 25,
      "outputs": []
    },
    {
      "cell_type": "markdown",
      "source": [
        "integrer le fichier dans l'application"
      ],
      "metadata": {
        "id": "s4C5ygqRs_iK"
      }
    },
    {
      "cell_type": "code",
      "source": [
        "def main():\n",
        "    st.title(\"Chatbot à Commande Vocale\")\n",
        "    st.write(\"Interagissez avec le chatbot via texte ou parole.\")\n",
        "\n",
        "    # Charger les données depuis le fichier texte\n",
        "    file_path = input(\"Entrez le chemin vers votre fichier texte :\") or \"questions_reponses.txt\"\n",
        "    pairs = load_pairs_from_file(file_path)\n",
        "    if not pairs:\n",
        "        st.error(\"Impossible de charger les données. Assurez-vous que le fichier est correct.\")\n",
        "        return\n",
        "\n",
        "    chatbot = Chat(pairs, reflections)\n",
        "\n",
        "    # Choix de mode d'entrée\n",
        "    input_mode = st.radio(\"Choisissez votre mode d'entrée :\", ('Texte', 'Voix'))\n",
        "\n",
        "    if input_mode == 'Texte':\n",
        "        user_input = st.text_input(\"Votre question :\")\n",
        "        if st.button(\"Envoyer\"):\n",
        "            response = chatbot.respond(user_input.lower())\n",
        "            st.write(f\"Chatbot : {response}\")\n",
        "\n",
        "    elif input_mode == 'Voix':\n",
        "        if st.button(\"Parlez maintenant\"):\n",
        "            user_input = recognize_speech()\n",
        "            st.write(f\"Vous avez dit : {user_input}\")\n",
        "            if user_input:\n",
        "                response = chatbot.respond(user_input.lower())\n",
        "                st.write(f\"Chatbot : {response}\")\n",
        "\n",
        "if __name__ == \"__main__\":\n",
        "    main()\n"
      ],
      "metadata": {
        "colab": {
          "base_uri": "https://localhost:8080/"
        },
        "id": "L5FfDaXctGZL",
        "outputId": "414fa8c8-548c-482f-9c9a-649bf30cf2ad"
      },
      "execution_count": 26,
      "outputs": [
        {
          "output_type": "stream",
          "name": "stderr",
          "text": [
            "2024-12-08 21:24:08.813 Thread 'MainThread': missing ScriptRunContext! This warning can be ignored when running in bare mode.\n",
            "2024-12-08 21:24:08.817 Thread 'MainThread': missing ScriptRunContext! This warning can be ignored when running in bare mode.\n",
            "2024-12-08 21:24:08.818 Thread 'MainThread': missing ScriptRunContext! This warning can be ignored when running in bare mode.\n",
            "2024-12-08 21:24:08.820 Thread 'MainThread': missing ScriptRunContext! This warning can be ignored when running in bare mode.\n",
            "2024-12-08 21:24:08.821 Thread 'MainThread': missing ScriptRunContext! This warning can be ignored when running in bare mode.\n",
            "2024-12-08 21:24:08.823 Thread 'MainThread': missing ScriptRunContext! This warning can be ignored when running in bare mode.\n"
          ]
        },
        {
          "name": "stdout",
          "output_type": "stream",
          "text": [
            "Entrez le chemin vers votre fichier texte :/content/reconnaissan faciale.txt\n"
          ]
        },
        {
          "output_type": "stream",
          "name": "stderr",
          "text": [
            "2024-12-08 21:24:39.753 Thread 'MainThread': missing ScriptRunContext! This warning can be ignored when running in bare mode.\n",
            "2024-12-08 21:24:39.756 Thread 'MainThread': missing ScriptRunContext! This warning can be ignored when running in bare mode.\n",
            "2024-12-08 21:24:39.757 Thread 'MainThread': missing ScriptRunContext! This warning can be ignored when running in bare mode.\n",
            "2024-12-08 21:24:39.759 Thread 'MainThread': missing ScriptRunContext! This warning can be ignored when running in bare mode.\n",
            "2024-12-08 21:24:39.762 Thread 'MainThread': missing ScriptRunContext! This warning can be ignored when running in bare mode.\n",
            "2024-12-08 21:24:39.764 Thread 'MainThread': missing ScriptRunContext! This warning can be ignored when running in bare mode.\n",
            "2024-12-08 21:24:39.766 Thread 'MainThread': missing ScriptRunContext! This warning can be ignored when running in bare mode.\n",
            "2024-12-08 21:24:39.767 Thread 'MainThread': missing ScriptRunContext! This warning can be ignored when running in bare mode.\n",
            "2024-12-08 21:24:39.769 Thread 'MainThread': missing ScriptRunContext! This warning can be ignored when running in bare mode.\n",
            "2024-12-08 21:24:39.770 Thread 'MainThread': missing ScriptRunContext! This warning can be ignored when running in bare mode.\n",
            "2024-12-08 21:24:39.771 Thread 'MainThread': missing ScriptRunContext! This warning can be ignored when running in bare mode.\n",
            "2024-12-08 21:24:39.777 Thread 'MainThread': missing ScriptRunContext! This warning can be ignored when running in bare mode.\n",
            "2024-12-08 21:24:39.778 Thread 'MainThread': missing ScriptRunContext! This warning can be ignored when running in bare mode.\n",
            "2024-12-08 21:24:39.779 Thread 'MainThread': missing ScriptRunContext! This warning can be ignored when running in bare mode.\n",
            "2024-12-08 21:24:39.783 Thread 'MainThread': missing ScriptRunContext! This warning can be ignored when running in bare mode.\n",
            "2024-12-08 21:24:39.784 Thread 'MainThread': missing ScriptRunContext! This warning can be ignored when running in bare mode.\n",
            "2024-12-08 21:24:39.785 Thread 'MainThread': missing ScriptRunContext! This warning can be ignored when running in bare mode.\n"
          ]
        }
      ]
    },
    {
      "cell_type": "code",
      "source": [],
      "metadata": {
        "id": "Z9NvrE9G7iIU"
      },
      "execution_count": null,
      "outputs": []
    },
    {
      "source": [
        "import nltk\n",
        "import streamlit as st\n",
        "import speech_recognition as sr\n",
        "from nltk.chat.util import Chat, reflections\n",
        "\n",
        "def load_pairs_from_file(filename):\n",
        "    \"\"\"\n",
        "    Charge les paires questions-réponses à partir d'un fichier texte.\n",
        "    \"\"\"\n",
        "    pairs = []\n",
        "    try:\n",
        "        with open(filename, 'r', encoding='utf-8') as file:\n",
        "            lines = file.readlines()\n",
        "            for i in range(0, len(lines), 2):  # Lire les questions/réponses par paires\n",
        "                question = lines[i].strip()\n",
        "                answer = lines[i + 1].strip() if i + 1 < len(lines) else \"\"\n",
        "                pairs.append([question, [answer]])\n",
        "        return pairs\n",
        "    except FileNotFoundError:\n",
        "        st.error(\"Fichier introuvable. Veuillez vérifier le chemin.\")\n",
        "        return []\n",
        "\n",
        "def recognize_speech():\n",
        "    \"\"\"\n",
        "    Transcrit la voix de l'utilisateur en texte.\n",
        "    \"\"\"\n",
        "    recognizer = sr.Recognizer()\n",
        "    with sr.Microphone() as source:\n",
        "        st.info(\"Parlez maintenant...\")\n",
        "        try:\n",
        "            audio = recognizer.listen(source, timeout=5)\n",
        "            text = recognizer.recognize_google(audio, language=\"fr-FR\")\n",
        "            return text\n",
        "        except sr.UnknownValueError:\n",
        "            return \"Je n'ai pas compris votre réponse.\"\n",
        "        except sr.RequestError:\n",
        "            return \"Erreur de connexion avec le service de reconnaissance vocale.\"\n",
        "\n",
        "def main():\n",
        "    st.title(\"Chatbot à Commande Vocale\")\n",
        "    st.write(\"Interagissez avec le chatbot via texte ou parole.\")\n",
        "\n",
        "    # Charger les données depuis le fichier texte\n",
        "    file_path = input(\"Entrez le chemin vers votre fichier texte :\") or \"questions_reponses.txt\"\n",
        "    pairs = load_pairs_from_file(file_path)\n",
        "    if not pairs:\n",
        "        st.error(\"Impossible de charger les données. Assurez-vous que le fichier est correct.\")\n",
        "        return\n",
        "\n",
        "    chatbot = Chat(pairs, reflections)\n",
        "\n",
        "    # Choix de mode d'entrée\n",
        "    input_mode = st.radio(\"Choisissez votre mode d'entrée :\", ('Texte', 'Voix'))\n",
        "\n",
        "    if input_mode == 'Texte':\n",
        "        user_input = st.text_input(\"Votre question :\")\n",
        "        if st.button(\"Envoyer\"):\n",
        "            response = chatbot.respond(user_input.lower())\n",
        "            st.write(f\"Chatbot : {response}\")\n",
        "\n",
        "    elif input_mode == 'Voix':\n",
        "        if st.button(\"Parlez maintenant\"):\n",
        "            user_input = recognize_speech()\n",
        "            st.write(f\"Vous avez dit : {user_input}\")\n",
        "            if user_input:\n",
        "                response = chatbot.respond(user_input.lower())\n",
        "                st.write(f\"Chatbot : {response}\")\n",
        "\n",
        "if __name__ == \"__main__\":\n",
        "    main()"
      ],
      "cell_type": "code",
      "metadata": {
        "colab": {
          "base_uri": "https://localhost:8080/"
        },
        "id": "1beNowEUtxt7",
        "outputId": "de054c5c-6e04-44a3-bf2e-e7ba0189c66c"
      },
      "execution_count": 27,
      "outputs": [
        {
          "output_type": "stream",
          "name": "stderr",
          "text": [
            "2024-12-08 21:24:53.964 Thread 'MainThread': missing ScriptRunContext! This warning can be ignored when running in bare mode.\n",
            "2024-12-08 21:24:53.970 Thread 'MainThread': missing ScriptRunContext! This warning can be ignored when running in bare mode.\n",
            "2024-12-08 21:24:53.971 Thread 'MainThread': missing ScriptRunContext! This warning can be ignored when running in bare mode.\n",
            "2024-12-08 21:24:53.973 Thread 'MainThread': missing ScriptRunContext! This warning can be ignored when running in bare mode.\n",
            "2024-12-08 21:24:53.975 Thread 'MainThread': missing ScriptRunContext! This warning can be ignored when running in bare mode.\n",
            "2024-12-08 21:24:53.977 Thread 'MainThread': missing ScriptRunContext! This warning can be ignored when running in bare mode.\n"
          ]
        },
        {
          "name": "stdout",
          "output_type": "stream",
          "text": [
            "Entrez le chemin vers votre fichier texte :/content/reconnaissan faciale.txt\n"
          ]
        },
        {
          "output_type": "stream",
          "name": "stderr",
          "text": [
            "2024-12-08 21:25:22.431 Thread 'MainThread': missing ScriptRunContext! This warning can be ignored when running in bare mode.\n",
            "2024-12-08 21:25:22.432 Thread 'MainThread': missing ScriptRunContext! This warning can be ignored when running in bare mode.\n",
            "2024-12-08 21:25:22.434 Thread 'MainThread': missing ScriptRunContext! This warning can be ignored when running in bare mode.\n",
            "2024-12-08 21:25:22.438 Thread 'MainThread': missing ScriptRunContext! This warning can be ignored when running in bare mode.\n",
            "2024-12-08 21:25:22.439 Thread 'MainThread': missing ScriptRunContext! This warning can be ignored when running in bare mode.\n",
            "2024-12-08 21:25:22.442 Thread 'MainThread': missing ScriptRunContext! This warning can be ignored when running in bare mode.\n",
            "2024-12-08 21:25:22.444 Thread 'MainThread': missing ScriptRunContext! This warning can be ignored when running in bare mode.\n",
            "2024-12-08 21:25:22.446 Thread 'MainThread': missing ScriptRunContext! This warning can be ignored when running in bare mode.\n",
            "2024-12-08 21:25:22.447 Thread 'MainThread': missing ScriptRunContext! This warning can be ignored when running in bare mode.\n",
            "2024-12-08 21:25:22.448 Thread 'MainThread': missing ScriptRunContext! This warning can be ignored when running in bare mode.\n",
            "2024-12-08 21:25:22.450 Thread 'MainThread': missing ScriptRunContext! This warning can be ignored when running in bare mode.\n",
            "2024-12-08 21:25:22.451 Thread 'MainThread': missing ScriptRunContext! This warning can be ignored when running in bare mode.\n",
            "2024-12-08 21:25:22.452 Thread 'MainThread': missing ScriptRunContext! This warning can be ignored when running in bare mode.\n",
            "2024-12-08 21:25:22.453 Thread 'MainThread': missing ScriptRunContext! This warning can be ignored when running in bare mode.\n",
            "2024-12-08 21:25:22.455 Thread 'MainThread': missing ScriptRunContext! This warning can be ignored when running in bare mode.\n",
            "2024-12-08 21:25:22.456 Thread 'MainThread': missing ScriptRunContext! This warning can be ignored when running in bare mode.\n",
            "2024-12-08 21:25:22.458 Thread 'MainThread': missing ScriptRunContext! This warning can be ignored when running in bare mode.\n"
          ]
        }
      ]
    },
    {
      "cell_type": "markdown",
      "source": [
        "Cette fonction transcrira la voix de l'utilisateur en texte"
      ],
      "metadata": {
        "id": "S3vA9deymjWW"
      }
    },
    {
      "cell_type": "code",
      "source": [
        "import nltk\n",
        "import streamlit as st\n",
        "import speech_recognition as sr\n",
        "from nltk.chat.util import Chat, reflections\n",
        "\n",
        "# Fonction 1 : Chargement des paires depuis un fichier texte\n",
        "def load_pairs_from_file(filename):\n",
        "    pairs = []\n",
        "    try:\n",
        "        with open(filename, 'r', encoding='utf-8') as file:\n",
        "            lines = file.readlines()\n",
        "            for i in range(0, len(lines), 2):  # Lire les questions/réponses par paires\n",
        "                question = lines[i].strip()\n",
        "                answer = lines[i + 1].strip() if i + 1 < len(lines) else \"\"\n",
        "                pairs.append([question, [answer]])\n",
        "        return pairs\n",
        "    except FileNotFoundError:\n",
        "        st.error(\"Fichier introuvable. Veuillez vérifier le chemin.\")\n",
        "        return []\n",
        "\n",
        "# Fonction 2 : Reconnaissance vocale\n",
        "def recognize_speech():\n",
        "    recognizer = sr.Recognizer()\n",
        "    with sr.Microphone() as source:\n",
        "        st.info(\"Parlez maintenant...\")\n",
        "        try:\n",
        "            audio = recognizer.listen(source, timeout=5)\n",
        "            text = recognizer.recognize_google(audio, language=\"fr-FR\")\n",
        "            return text\n",
        "        except sr.UnknownValueError:\n",
        "            return \"Je n'ai pas compris votre réponse.\"\n",
        "        except sr.RequestError:\n",
        "            return \"Erreur de connexion avec le service de reconnaissance vocale.\"\n",
        "\n",
        "# Fonction principale : Interface Streamlit\n",
        "def main():\n",
        "    st.title(\"Chatbot Global à Commande Vocale et Textuelle\")\n",
        "    st.write(\"Interagissez avec le chatbot via texte ou parole.\")\n",
        "\n",
        "    # Charger le fichier texte\n",
        "    file_path = st.text_input(\"Entrez le chemin vers votre fichier texte :\", \"questions_reponses.txt\")\n",
        "    pairs = load_pairs_from_file(file_path)\n",
        "    if not pairs:\n",
        "        st.error(\"Impossible de charger les données. Assurez-vous que le fichier est correct.\")\n",
        "        return\n",
        "\n",
        "    chatbot = Chat(pairs, reflections)\n",
        "\n",
        "    # Choix du mode d'entrée\n",
        "    input_mode = st.radio(\"Choisissez votre mode d'entrée :\", ('Texte', 'Voix'))\n",
        "\n",
        "    # Interaction en mode texte\n",
        "    if input_mode == 'Texte':\n",
        "        user_input = st.text_input(\"Votre question :\")\n",
        "        if st.button(\"Envoyer\"):\n",
        "            if user_input:\n",
        "                response = chatbot.respond(user_input.lower())\n",
        "                st.write(f\"Chatbot : {response}\")\n",
        "            else:\n",
        "                st.warning(\"Veuillez saisir une question.\")\n",
        "\n",
        "    # Interaction en mode vocal\n",
        "    elif input_mode == 'Voix':\n",
        "        if st.button(\"Parlez maintenant\"):\n",
        "            user_input = recognize_speech()\n",
        "            st.write(f\"Vous avez dit : {user_input}\")\n",
        "            if user_input:\n",
        "                response = chatbot.respond(user_input.lower())\n",
        "                st.write(f\"Chatbot : {response}\")\n",
        "\n",
        "    # Option pour enregistrer la conversation (optionnel)\n",
        "    if st.checkbox(\"Enregistrer la conversation ?\"):\n",
        "        with open(\"conversation_log.txt\", \"a\", encoding=\"utf-8\") as log_file:\n",
        "            log_file.write(f\"Utilisateur : {user_input}\\n\")\n",
        "            log_file.write(f\"Chatbot : {response}\\n\")\n",
        "        st.success(\"Conversation enregistrée.\")\n",
        "\n",
        "# Point d'entrée du programme\n",
        "if __name__ == \"__main__\":\n",
        "    main()\n"
      ],
      "metadata": {
        "colab": {
          "base_uri": "https://localhost:8080/"
        },
        "id": "5oGbMsiSuXL5",
        "outputId": "1776b47c-cea0-42f6-b0dc-5b4843d97f50"
      },
      "execution_count": 28,
      "outputs": [
        {
          "output_type": "stream",
          "name": "stderr",
          "text": [
            "2024-12-08 21:25:51.267 Thread 'MainThread': missing ScriptRunContext! This warning can be ignored when running in bare mode.\n",
            "2024-12-08 21:25:51.269 Thread 'MainThread': missing ScriptRunContext! This warning can be ignored when running in bare mode.\n",
            "2024-12-08 21:25:51.271 Thread 'MainThread': missing ScriptRunContext! This warning can be ignored when running in bare mode.\n",
            "2024-12-08 21:25:51.273 Thread 'MainThread': missing ScriptRunContext! This warning can be ignored when running in bare mode.\n",
            "2024-12-08 21:25:51.275 Thread 'MainThread': missing ScriptRunContext! This warning can be ignored when running in bare mode.\n",
            "2024-12-08 21:25:51.277 Thread 'MainThread': missing ScriptRunContext! This warning can be ignored when running in bare mode.\n",
            "2024-12-08 21:25:51.279 Thread 'MainThread': missing ScriptRunContext! This warning can be ignored when running in bare mode.\n",
            "2024-12-08 21:25:51.280 Thread 'MainThread': missing ScriptRunContext! This warning can be ignored when running in bare mode.\n",
            "2024-12-08 21:25:51.281 Thread 'MainThread': missing ScriptRunContext! This warning can be ignored when running in bare mode.\n",
            "2024-12-08 21:25:51.283 Thread 'MainThread': missing ScriptRunContext! This warning can be ignored when running in bare mode.\n",
            "2024-12-08 21:25:51.284 Thread 'MainThread': missing ScriptRunContext! This warning can be ignored when running in bare mode.\n",
            "2024-12-08 21:25:51.285 Thread 'MainThread': missing ScriptRunContext! This warning can be ignored when running in bare mode.\n",
            "2024-12-08 21:25:51.287 Thread 'MainThread': missing ScriptRunContext! This warning can be ignored when running in bare mode.\n",
            "2024-12-08 21:25:51.288 Thread 'MainThread': missing ScriptRunContext! This warning can be ignored when running in bare mode.\n",
            "2024-12-08 21:25:51.289 Thread 'MainThread': missing ScriptRunContext! This warning can be ignored when running in bare mode.\n",
            "2024-12-08 21:25:51.290 Thread 'MainThread': missing ScriptRunContext! This warning can be ignored when running in bare mode.\n"
          ]
        }
      ]
    },
    {
      "cell_type": "code",
      "source": [
        "import nltk\n",
        "import streamlit as st\n",
        "import speech_recognition as sr\n",
        "from nltk.chat.util import Chat, reflections\n",
        "from datetime import datetime\n",
        "\n",
        "# Fonction 1 : Charger les paires depuis un fichier texte\n",
        "def load_pairs_from_file(filename):\n",
        "    pairs = []\n",
        "    try:\n",
        "        with open(filename, 'r', encoding='utf-8') as file:\n",
        "            lines = file.readlines()\n",
        "            for i in range(0, len(lines), 2):  # Lire les questions/réponses par paires\n",
        "                question = lines[i].strip()\n",
        "                answer = lines[i + 1].strip() if i + 1 < len(lines) else \"\"\n",
        "                pairs.append([question, [answer]])\n",
        "        return pairs\n",
        "    except FileNotFoundError:\n",
        "        st.error(\"Fichier introuvable. Veuillez vérifier le chemin.\")\n",
        "        return []\n",
        "\n",
        "# Fonction 2 : Reconnaissance vocale\n",
        "def recognize_speech():\n",
        "    recognizer = sr.Recognizer()\n",
        "    with sr.Microphone() as source:\n",
        "        st.info(\"Parlez maintenant...\")\n",
        "        try:\n",
        "            audio = recognizer.listen(source, timeout=5)\n",
        "            text = recognizer.recognize_google(audio, language=\"fr-FR\")\n",
        "            return text\n",
        "        except sr.UnknownValueError:\n",
        "            return \"Je n'ai pas compris votre réponse.\"\n",
        "        except sr.RequestError:\n",
        "            return \"Erreur de connexion avec le service de reconnaissance vocale.\"\n",
        "\n",
        "# Fonction 3 : Enregistrer la conversation\n",
        "def save_conversation(user_input, chatbot_response, log_file=\"conversation_log.txt\"):\n",
        "    try:\n",
        "        with open(log_file, \"a\", encoding=\"utf-8\") as file:\n",
        "            timestamp = datetime.now().strftime(\"%Y-%m-%d %H:%M:%S\")\n",
        "            file.write(f\"{timestamp}\\n\")\n",
        "            file.write(f\"Utilisateur : {user_input}\\n\")\n",
        "            file.write(f\"Chatbot : {chatbot_response}\\n\\n\")\n",
        "    except Exception as e:\n",
        "        st.error(f\"Erreur lors de l'enregistrement : {e}\")\n",
        "\n",
        "# Fonction principale : Interface Streamlit\n",
        "def main():\n",
        "    st.title(\"Chatbot Global avec Enregistrement des Conversations\")\n",
        "    st.write(\"Interagissez avec le chatbot via texte ou parole.\")\n",
        "\n",
        "    # Charger le fichier texte\n",
        "    file_path = st.text_input(\"Entrez le chemin vers votre fichier texte :\", \"questions_reponses.txt\")\n",
        "    pairs = load_pairs_from_file(file_path)\n",
        "    if not pairs:\n",
        "        st.error(\"Impossible de charger les données. Assurez-vous que le fichier est correct.\")\n",
        "        return\n",
        "\n",
        "    chatbot = Chat(pairs, reflections)\n",
        "\n",
        "    # Choix du mode d'entrée\n",
        "    input_mode = st.radio(\"Choisissez votre mode d'entrée :\", ('Texte', 'Voix'))\n",
        "\n",
        "    # Interaction en mode texte\n",
        "    if input_mode == 'Texte':\n",
        "        user_input = st.text_input(\"Votre question :\")\n",
        "        if st.button(\"Envoyer\"):\n",
        "            if user_input:\n",
        "                response = chatbot.respond(user_input.lower())\n",
        "                st.write(f\"Chatbot : {response}\")\n",
        "                save_conversation(user_input, response)  # Enregistrer la conversation\n",
        "            else:\n",
        "                st.warning(\"Veuillez saisir une question.\")\n",
        "\n",
        "    # Interaction en mode vocal\n",
        "    elif input_mode == 'Voix':\n",
        "        if st.button(\"Parlez maintenant\"):\n",
        "            user_input = recognize_speech()\n",
        "            st.write(f\"Vous avez dit : {user_input}\")\n",
        "            if user_input:\n",
        "                response = chatbot.respond(user_input.lower())\n",
        "                st.write(f\"Chatbot : {response}\")\n",
        "                save_conversation(user_input, response)  # Enregistrer la conversation\n",
        "\n",
        "# Point d'entrée du programme\n",
        "if __name__ == \"__main__\":\n",
        "    main()\n"
      ],
      "metadata": {
        "colab": {
          "base_uri": "https://localhost:8080/"
        },
        "id": "aa3MZcvsvecw",
        "outputId": "eade65b1-055a-417c-9951-48022d7d6dbc"
      },
      "execution_count": 29,
      "outputs": [
        {
          "output_type": "stream",
          "name": "stderr",
          "text": [
            "2024-12-08 21:25:57.223 Thread 'MainThread': missing ScriptRunContext! This warning can be ignored when running in bare mode.\n",
            "2024-12-08 21:25:57.225 Thread 'MainThread': missing ScriptRunContext! This warning can be ignored when running in bare mode.\n",
            "2024-12-08 21:25:57.227 Thread 'MainThread': missing ScriptRunContext! This warning can be ignored when running in bare mode.\n",
            "2024-12-08 21:25:57.229 Thread 'MainThread': missing ScriptRunContext! This warning can be ignored when running in bare mode.\n",
            "2024-12-08 21:25:57.234 Thread 'MainThread': missing ScriptRunContext! This warning can be ignored when running in bare mode.\n",
            "2024-12-08 21:25:57.236 Thread 'MainThread': missing ScriptRunContext! This warning can be ignored when running in bare mode.\n",
            "2024-12-08 21:25:57.237 Thread 'MainThread': missing ScriptRunContext! This warning can be ignored when running in bare mode.\n",
            "2024-12-08 21:25:57.241 Thread 'MainThread': missing ScriptRunContext! This warning can be ignored when running in bare mode.\n",
            "2024-12-08 21:25:57.243 Thread 'MainThread': missing ScriptRunContext! This warning can be ignored when running in bare mode.\n",
            "2024-12-08 21:25:57.244 Thread 'MainThread': missing ScriptRunContext! This warning can be ignored when running in bare mode.\n",
            "2024-12-08 21:25:57.245 Thread 'MainThread': missing ScriptRunContext! This warning can be ignored when running in bare mode.\n",
            "2024-12-08 21:25:57.248 Thread 'MainThread': missing ScriptRunContext! This warning can be ignored when running in bare mode.\n",
            "2024-12-08 21:25:57.249 Thread 'MainThread': missing ScriptRunContext! This warning can be ignored when running in bare mode.\n",
            "2024-12-08 21:25:57.250 Thread 'MainThread': missing ScriptRunContext! This warning can be ignored when running in bare mode.\n",
            "2024-12-08 21:25:57.251 Thread 'MainThread': missing ScriptRunContext! This warning can be ignored when running in bare mode.\n",
            "2024-12-08 21:25:57.252 Thread 'MainThread': missing ScriptRunContext! This warning can be ignored when running in bare mode.\n"
          ]
        }
      ]
    },
    {
      "cell_type": "markdown",
      "source": [],
      "metadata": {
        "id": "bpTQKNU9uWiG"
      }
    },
    {
      "cell_type": "code",
      "source": [
        "def recognize_speech():\n",
        "    recognizer = sr.Recognizer()\n",
        "    with sr.Microphone() as source:\n",
        "        st.info(\"Parlez maintenant...\")\n",
        "        try:\n",
        "            audio = recognizer.listen(source, timeout=5)\n",
        "            text = recognizer.recognize_google(audio, language=\"fr-FR\")\n",
        "            return text\n",
        "        except sr.UnknownValueError:\n",
        "            return \"Je n'ai pas compris votre réponse.\"\n",
        "        except sr.RequestError:\n",
        "            return \"Erreur de connexion avec le service de reconnaissance vocale.\"\n"
      ],
      "metadata": {
        "id": "lJ2zHjdsmkQF"
      },
      "execution_count": 30,
      "outputs": []
    },
    {
      "cell_type": "markdown",
      "source": [
        "Créer une application Streamlit"
      ],
      "metadata": {
        "id": "bwRSsdxrmvg3"
      }
    },
    {
      "cell_type": "code",
      "source": [
        "def main():\n",
        "    st.title(\"Chatbot à Commande Vocale\")\n",
        "    st.write(\"Interagissez avec le chatbot via texte ou parole.\")\n",
        "\n",
        "    # Choix de mode d'entrée\n",
        "    input_mode = st.radio(\"Choisissez votre mode d'entrée :\", ('Texte', 'Voix'))\n",
        "\n",
        "    if input_mode == 'Texte':\n",
        "        user_input = st.text_input(\"Votre question :\")\n",
        "        if st.button(\"Envoyer\"):\n",
        "            response = chatbot.respond(user_input.lower())\n",
        "            st.write(f\"Chatbot : {response}\")\n",
        "\n",
        "    elif input_mode == 'Voix':\n",
        "        if st.button(\"Parlez maintenant\"):\n",
        "            user_input = recognize_speech()\n",
        "            st.write(f\"Vous avez dit : {user_input}\")\n",
        "            if user_input:\n",
        "                response = chatbot.respond(user_input.lower())\n",
        "                st.write(f\"Chatbot : {response}\")\n",
        "\n",
        "if __name__ == \"__main__\":\n",
        "    main()\n"
      ],
      "metadata": {
        "colab": {
          "base_uri": "https://localhost:8080/"
        },
        "id": "NRdiEorbmzGB",
        "outputId": "53b1e1e1-4e1a-43da-fec0-068853678683"
      },
      "execution_count": 31,
      "outputs": [
        {
          "output_type": "stream",
          "name": "stderr",
          "text": [
            "2024-12-08 21:26:15.504 Thread 'MainThread': missing ScriptRunContext! This warning can be ignored when running in bare mode.\n",
            "2024-12-08 21:26:15.507 Thread 'MainThread': missing ScriptRunContext! This warning can be ignored when running in bare mode.\n",
            "2024-12-08 21:26:15.511 Thread 'MainThread': missing ScriptRunContext! This warning can be ignored when running in bare mode.\n",
            "2024-12-08 21:26:15.513 Thread 'MainThread': missing ScriptRunContext! This warning can be ignored when running in bare mode.\n",
            "2024-12-08 21:26:15.516 Thread 'MainThread': missing ScriptRunContext! This warning can be ignored when running in bare mode.\n",
            "2024-12-08 21:26:15.517 Thread 'MainThread': missing ScriptRunContext! This warning can be ignored when running in bare mode.\n",
            "2024-12-08 21:26:15.518 Thread 'MainThread': missing ScriptRunContext! This warning can be ignored when running in bare mode.\n",
            "2024-12-08 21:26:15.519 Thread 'MainThread': missing ScriptRunContext! This warning can be ignored when running in bare mode.\n",
            "2024-12-08 21:26:15.521 Thread 'MainThread': missing ScriptRunContext! This warning can be ignored when running in bare mode.\n",
            "2024-12-08 21:26:15.522 Thread 'MainThread': missing ScriptRunContext! This warning can be ignored when running in bare mode.\n",
            "2024-12-08 21:26:15.523 Thread 'MainThread': missing ScriptRunContext! This warning can be ignored when running in bare mode.\n",
            "2024-12-08 21:26:15.529 Thread 'MainThread': missing ScriptRunContext! This warning can be ignored when running in bare mode.\n",
            "2024-12-08 21:26:15.531 Thread 'MainThread': missing ScriptRunContext! This warning can be ignored when running in bare mode.\n",
            "2024-12-08 21:26:15.532 Thread 'MainThread': missing ScriptRunContext! This warning can be ignored when running in bare mode.\n",
            "2024-12-08 21:26:15.534 Thread 'MainThread': missing ScriptRunContext! This warning can be ignored when running in bare mode.\n",
            "2024-12-08 21:26:15.535 Thread 'MainThread': missing ScriptRunContext! This warning can be ignored when running in bare mode.\n",
            "2024-12-08 21:26:15.538 Thread 'MainThread': missing ScriptRunContext! This warning can be ignored when running in bare mode.\n",
            "2024-12-08 21:26:15.539 Thread 'MainThread': missing ScriptRunContext! This warning can be ignored when running in bare mode.\n",
            "2024-12-08 21:26:15.540 Thread 'MainThread': missing ScriptRunContext! This warning can be ignored when running in bare mode.\n",
            "2024-12-08 21:26:15.541 Thread 'MainThread': missing ScriptRunContext! This warning can be ignored when running in bare mode.\n",
            "2024-12-08 21:26:15.542 Thread 'MainThread': missing ScriptRunContext! This warning can be ignored when running in bare mode.\n",
            "2024-12-08 21:26:15.543 Thread 'MainThread': missing ScriptRunContext! This warning can be ignored when running in bare mode.\n",
            "2024-12-08 21:26:15.545 Thread 'MainThread': missing ScriptRunContext! This warning can be ignored when running in bare mode.\n"
          ]
        }
      ]
    },
    {
      "cell_type": "markdown",
      "source": [
        "Tester l'application"
      ],
      "metadata": {
        "id": "9v-wRW7Om8HG"
      }
    },
    {
      "source": [
        "from google.colab import drive\n",
        "drive.mount('/content/reconnaissan_faciale.txt') # Replace spaces with underscores or remove spaces."
      ],
      "cell_type": "code",
      "metadata": {
        "colab": {
          "base_uri": "https://localhost:8080/"
        },
        "id": "QGbthMTq9Xfq",
        "outputId": "fa9f213c-2d45-4314-8725-32b2969d7041"
      },
      "execution_count": 36,
      "outputs": [
        {
          "output_type": "stream",
          "name": "stdout",
          "text": [
            "Mounted at /content/reconnaissan_faciale.txt\n"
          ]
        }
      ]
    }
  ]
}